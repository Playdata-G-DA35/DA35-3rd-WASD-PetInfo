{
 "cells": [
  {
   "cell_type": "code",
   "execution_count": 12,
   "metadata": {},
   "outputs": [
    {
     "name": "stdout",
     "output_type": "stream",
     "text": [
      "^C\n"
     ]
    }
   ],
   "source": [
    "# !pip install sentencepiece"
   ]
  },
  {
   "cell_type": "code",
   "execution_count": 1,
   "metadata": {},
   "outputs": [],
   "source": [
    "from sentencepiece import SentencePieceTrainer #어휘사전을 만드는 클래스\n",
    "from sentencepiece import SentencePieceProcessor\n",
    "import os\n",
    "os.makedirs(\"saved_models\", exist_ok=True)"
   ]
  },
  {
   "cell_type": "code",
   "execution_count": 6,
   "metadata": {},
   "outputs": [
    {
     "name": "stdout",
     "output_type": "stream",
     "text": [
      "걸린시간: 175.59767603874207초\n"
     ]
    }
   ],
   "source": [
    "import time\n",
    "s = time.time()\n",
    "# 모델 만들기\n",
    "SentencePieceTrainer.Train(\n",
    "    \"--input=data/petitions_corpus.txt --model_prefix=petitions_bpe --vocab_size=10000 --model_type=bpe --unk_id=0\"\n",
    ")\n",
    "e = time.time()\n",
    "print(f\"걸린시간: {e-s}초\")"
   ]
  },
  {
   "cell_type": "code",
   "execution_count": 7,
   "metadata": {},
   "outputs": [],
   "source": [
    "tokenizer = SentencePieceProcessor()"
   ]
  },
  {
   "cell_type": "code",
   "execution_count": 12,
   "metadata": {},
   "outputs": [
    {
     "data": {
      "text/plain": [
       "True"
      ]
     },
     "execution_count": 12,
     "metadata": {},
     "output_type": "execute_result"
    }
   ],
   "source": [
    "\n",
    "tokenizer.load(\"saved_models/petitions_bpe.model\")"
   ]
  },
  {
   "cell_type": "code",
   "execution_count": 13,
   "metadata": {},
   "outputs": [],
   "source": [
    "p_str = \"안녕하세요. 현재 사대, 교대 등 교원양성학교들의 예비교사들이 임용절벽에 매우 힘들어 하고 있는 줄로 압니다. 정부 부처에서는 영양사의 영양'교사'화, 폭발적인 영양'교사' 채용, 기간제 교사, 영전강, 스강의 무기계약직화가 그들의 임용 절벽과는 전혀 무관한 일이라고 주장하고 있지만 조금만 생각해보면 전혀 설득력 없는 말이라고 생각합니다. 학교 수가 같고, 학생 수가 동일한데 영양교사와 기간제 교사, 영전강 스강이 학교에 늘어나게 되면 당연히 정규 교원의 수는 줄어들게 되지 않겠습니까? 기간제 교사, 영전강, 스강의 무기계약직화, 정규직화 꼭 전면 백지화해주십시오. 백년대계인 국가의 교육에 달린 문제입니다. 단순히 대통령님의 일자리 공약, 81만개 일자리 창출 공약을 지키시고자 돌이킬 수 없는 실수는 하지 않으시길 바랍니다. 세계 어느 나라와 비교해도, 한국 교원의 수준과 질은 최고 수준입니다. 고등교육을 받고 어려운 국가 고시를 통과해야만 대한민국 공립 학교의 교단에 설 수 있고, 이러한 과정이 힘들기는 하지만 교원들이 교육자로서의 사명감과 자부심을 갖고 교육하게 되는 원동력이기도 합니다. 자격도 없는 비정규 인력들을 일자리 늘리기 명목 하에 학교로 들이게 되면, 그들이 무슨 낯으로 대한민국이 '공정한 사회' 라고 아이들에게 가르칠 수 있겠습니까? 그들이 가르치는 것을 학부모와 학생들이 납득할 수 있겠으며, 학생들은 공부를 열심히 해야하는 이유를 찾을 수나 있겠습니까? 열심히 안 해도 떼 쓰면 되는 세상이라고 생각하지 않겠습니까? 영양사의 영양교사화도 재고해주십시오. 영양사분들 정말 너무나 고마운 분들입니다. 학생들의 건강과 영양? 당연히 성장기에 있는 아이들에게 필수적이고 중요한 문제입니다. 하지만 이들이 왜 교사입니까. 유래를 찾아 볼 수 없는 영양사의 '교사'화. 정말 대통령님이 생각하신 아이디어라고 믿기 싫을 정도로 납득하기 어렵습니다. 중등은 실과교과 교사가 존재하지요? 초등 역시 임용 시험에 실과가 포함돼 있으며 학교 현장에서도 정규 교원이 직접 실과 과목을 학생들에게 가르칩니다. 영양'교사', 아니 영양사가 학생들에게 실과를 가르치지 않습니다. 아니 그 어떤 것도 가르치지 않습니다. 올해 대통령님 취임 후에 초등, 중등 임용 티오가 초전박살 나는 동안 영양'교사' 티오는 폭발적으로 확대된 줄로 압니다. 학생들의 교육을 위해 정말 교원의 수를 줄이고, 영양 교사의 수를 늘리는 것이 올바른 해답인지 묻고 싶습니다. 마지막으로 교원 당 학생 수. 이 통계도 제대로 내주시기 바랍니다. 다른 나라들은 '정규 교원', 즉 담임이나 교과 교사들로만 통계를 내는데(너무나 당연한 것이지요) 왜 한국은 보건, 영양, 기간제, 영전강, 스강 까지 다 포함해서 교원 수 통계를 내는건가요? 이런 통계의 장난을 통해 OECD 평균 교원 당 학생 수와 거의 비슷한 수준에 이르렀다고 주장하시는건가요? 학교는 교육의 장이고 학생들의 공간이지, 인력 센터가 아닙니다. 부탁드립니다. 부디 넓은 안목으로 멀리 내다봐주시길 간곡히 부탁드립니다.\""
   ]
  },
  {
   "cell_type": "code",
   "execution_count": 14,
   "metadata": {},
   "outputs": [
    {
     "name": "stdout",
     "output_type": "stream",
     "text": [
      "['▁안녕하세요', '.', '▁현재', '▁사', '대', ',', '▁교', '대', '▁등', '▁교', '원', '양', '성', '학교', '들의', '▁예비', '교사', '들이', '▁임용', '절', '벽', '에', '▁매우', '▁힘들어', '▁하고', '▁있는', '▁줄', '로', '▁압니다', '.', '▁정부', '▁부처', '에서는', '▁영양', '사의', '▁영양', \"'\", '교사', \"'\", '화', ',', '▁폭', '발', '적인', '▁영양', \"'\", '교사', \"'\", '▁채용', ',', '▁기간제', '▁교사', ',', '▁영', '전', '강', ',', '▁스', '강', '의', '▁무기계약', '직', '화가', '▁그들의', '▁임용', '▁절', '벽', '과는', '▁전혀', '▁무관', '한', '▁일이라고', '▁주장', '하고', '▁있지만', '▁조금만', '▁생각해', '보면', '▁전혀', '▁설득', '력', '▁없는', '▁말', '이라고', '▁생각합니다', '.', '▁학교', '▁수가', '▁같고', ',', '▁학생', '▁수가', '▁동일', '한데', '▁영양', '교사', '와', '▁기간제', '▁교사', ',', '▁영', '전', '강', '▁스', '강', '이', '▁학교에', '▁늘어나', '게', '▁되면', '▁당연히', '▁정', '규', '▁교', '원의', '▁수는', '▁줄어들', '게', '▁되지', '▁않겠습니까', '?', '▁기간제', '▁교사', ',', '▁영', '전', '강', ',', '▁스', '강', '의', '▁무기계약', '직', '화', ',', '▁정규직', '화', '▁꼭', '▁전면', '▁백', '지', '화', '해주십시오', '.', '▁백', '년대', '계', '인', '▁국가의', '▁교육', '에', '▁달', '린', '▁문제입니다', '.', '▁단순히', '▁대통령님의', '▁일자리', '▁공약', ',', '▁8', '1', '만', '개', '▁일자리', '▁창출', '▁공약', '을', '▁지키', '시고', '자', '▁돌', '이', '킬', '▁수', '▁없는', '▁실', '수는', '▁하지', '▁않으', '시길', '▁바랍니다', '.', '▁세계', '▁어느', '▁나라', '와', '▁비교', '해도', ',', '▁한국', '▁교', '원의', '▁수준', '과', '▁질', '은', '▁최고', '▁수준입니다', '.', '▁고', '등', '교육을', '▁받고', '▁어려운', '▁국가', '▁고', '시를', '▁통과', '해야만', '▁대한민국', '▁공', '립', '▁학교의', '▁교', '단에', '▁설', '▁수', '▁있고', ',', '▁이러한', '▁과', '정이', '▁힘들', '기는', '▁하지만', '▁교', '원', '들이', '▁교육', '자로서', '의', '▁사', '명', '감과', '▁자부', '심을', '▁갖고', '▁교육', '하게', '▁되는', '▁원', '동', '력이', '기도', '▁합니다', '.', '▁자격', '도', '▁없는', '▁비정', '규', '▁인력', '들을', '▁일자리', '▁늘', '리기', '▁명목', '▁하', '에', '▁학교', '로', '▁들이', '게', '▁되면', ',', '▁그들이', '▁무슨', '▁', '낯', '으로', '▁대한민국이', \"▁'\", '공', '정한', '▁사회', \"'\", '▁라고', '▁아이들에게', '▁가르', '칠', '▁수', '▁있겠습니까', '?', '▁그들이', '▁가르', '치는', '▁것을', '▁학부모', '와', '▁학생들이', '▁납득', '할', '▁수', '▁있겠', '으며', ',', '▁학생들은', '▁공부를', '▁열심히', '▁해야하는', '▁이유를', '▁찾을', '▁수', '나', '▁있겠습니까', '?', '▁열심히', '▁안', '▁해도', '▁떼', '▁쓰', '면', '▁되는', '▁세상', '이라고', '▁생각하지', '▁않겠습니까', '?', '▁영양', '사의', '▁영양', '교사', '화', '도', '▁재', '고', '해주십시오', '.', '▁영양', '사', '분들', '▁정말', '▁너무나', '▁고', '마', '운', '▁분들', '입니다', '.', '▁학생들의', '▁건강', '과', '▁영양', '?', '▁당연히', '▁성장', '기에', '▁있는', '▁아이들에게', '▁필수', '적이고', '▁중요한', '▁문제입니다', '.', '▁하지만', '▁이들이', '▁왜', '▁교사', '입니까', '.', '▁유', '래', '를', '▁찾아', '▁볼', '▁수', '▁없는', '▁영양', '사의', \"▁'\", '교사', \"'\", '화', '.', '▁정말', '▁대통령님이', '▁생각', '하신', '▁아이', '디어', '라고', '▁믿', '기', '▁싫', '을', '▁정도로', '▁납득', '하기', '▁어렵습니다', '.', '▁중', '등은', '▁실', '과', '교', '과', '▁교사가', '▁존재', '하지', '요', '?', '▁초등', '▁역시', '▁임용', '▁시험', '에', '▁실', '과', '가', '▁포함', '돼', '▁있으며', '▁학교', '▁현장', '에서도', '▁정', '규', '▁교', '원이', '▁직접', '▁실', '과', '▁과', '목을', '▁학생들에게', '▁가르', '칩니다', '.', '▁영양', \"'\", '교사', \"'\", ',', '▁아니', '▁영양', '사가', '▁학생들에게', '▁실', '과', '를', '▁가르', '치지', '▁않습니다', '.', '▁아니', '▁그', '▁어떤', '▁것도', '▁가르', '치지', '▁않습니다', '.', '▁올해', '▁대통령님', '▁취임', '▁후에', '▁초등', ',', '▁중', '등', '▁임용', '▁티', '오', '가', '▁초', '전', '박', '살', '▁나는', '▁동안', '▁영양', \"'\", '교사', \"'\", '▁티', '오는', '▁폭', '발', '적으로', '▁확대', '된', '▁줄', '로', '▁압니다', '.', '▁학생들의', '▁교육을', '▁위해', '▁정말', '▁교', '원의', '▁수를', '▁줄이고', ',', '▁영양', '▁교사의', '▁수를', '▁늘리는', '▁것이', '▁올바른', '▁해', '답', '인지', '▁묻고', '▁싶습니다', '.', '▁마지막으로', '▁교', '원', '▁당', '▁학생', '▁수', '.', '▁이', '▁통계', '도', '▁제대로', '▁내', '주시기', '▁바랍니다', '.', '▁다른', '▁나라', '들은', \"▁'\", '정', '규', '▁교', '원', \"'\", ',', '▁즉', '▁담', '임', '이나', '▁교과', '▁교사', '들로', '만', '▁통', '계를', '▁내', '는데', '(', '너무', '나', '▁당연한', '▁것이', '지요', ')', '▁왜', '▁한국은', '▁보건', ',', '▁영양', ',', '▁기간제', ',', '▁영', '전', '강', ',', '▁스', '강', '▁까지', '▁다', '▁포함', '해서', '▁교', '원', '▁수', '▁통', '계를', '▁내는', '건가요', '?', '▁이런', '▁통', '계의', '▁장난', '을', '▁통해', '▁OECD', '▁평균', '▁교', '원', '▁당', '▁학생', '▁수', '와', '▁거의', '▁비슷한', '▁수준', '에', '▁이르', '렀', '다고', '▁주장', '하시는', '건가요', '?', '▁학교는', '▁교육의', '▁장', '이고', '▁학생들의', '▁공간', '이지', ',', '▁인력', '▁센터', '가', '▁아닙니다', '.', '▁부탁드립니다', '.', '▁부디', '▁넓', '은', '▁안', '목으로', '▁멀리', '▁내', '다', '봐', '주시길', '▁간곡히', '▁부탁드립니다', '.']\n"
     ]
    }
   ],
   "source": [
    "print(tokenizer.EncodeAsPieces(p_str))"
   ]
  },
  {
   "cell_type": "code",
   "execution_count": 18,
   "metadata": {},
   "outputs": [
    {
     "name": "stdout",
     "output_type": "stream",
     "text": [
      "True\n"
     ]
    }
   ],
   "source": [
    "import os\n",
    "from pathlib import Path\n",
    "file_path = \"saved_models/m_bpe.model\"\n",
    "os.path.isfile(file_path)\n",
    "# path_obj = Path(file_path)\n",
    "print(os.path.isfile(file_path))"
   ]
  },
  {
   "cell_type": "code",
   "execution_count": 19,
   "metadata": {},
   "outputs": [
    {
     "name": "stdout",
     "output_type": "stream",
     "text": [
      "Collecting tokenizers\n",
      "  Using cached tokenizers-0.19.1-cp311-none-win_amd64.whl.metadata (6.9 kB)\n",
      "Collecting huggingface-hub<1.0,>=0.16.4 (from tokenizers)\n",
      "  Using cached huggingface_hub-0.22.2-py3-none-any.whl.metadata (12 kB)\n",
      "Collecting filelock (from huggingface-hub<1.0,>=0.16.4->tokenizers)\n",
      "  Using cached filelock-3.13.4-py3-none-any.whl.metadata (2.8 kB)\n",
      "Collecting fsspec>=2023.5.0 (from huggingface-hub<1.0,>=0.16.4->tokenizers)\n",
      "  Using cached fsspec-2024.3.1-py3-none-any.whl.metadata (6.8 kB)\n",
      "Requirement already satisfied: packaging>=20.9 in c:\\classes\\project\\mini-project\\da35-3rd-wasd-petinfo\\preprocessing\\env\\lib\\site-packages (from huggingface-hub<1.0,>=0.16.4->tokenizers) (24.0)\n",
      "Requirement already satisfied: pyyaml>=5.1 in c:\\classes\\project\\mini-project\\da35-3rd-wasd-petinfo\\preprocessing\\env\\lib\\site-packages (from huggingface-hub<1.0,>=0.16.4->tokenizers) (6.0.1)\n",
      "Requirement already satisfied: requests in c:\\classes\\project\\mini-project\\da35-3rd-wasd-petinfo\\preprocessing\\env\\lib\\site-packages (from huggingface-hub<1.0,>=0.16.4->tokenizers) (2.31.0)\n",
      "Requirement already satisfied: tqdm>=4.42.1 in c:\\classes\\project\\mini-project\\da35-3rd-wasd-petinfo\\preprocessing\\env\\lib\\site-packages (from huggingface-hub<1.0,>=0.16.4->tokenizers) (4.66.2)\n",
      "Requirement already satisfied: typing-extensions>=3.7.4.3 in c:\\classes\\project\\mini-project\\da35-3rd-wasd-petinfo\\preprocessing\\env\\lib\\site-packages (from huggingface-hub<1.0,>=0.16.4->tokenizers) (4.11.0)\n",
      "Requirement already satisfied: colorama in c:\\classes\\project\\mini-project\\da35-3rd-wasd-petinfo\\preprocessing\\env\\lib\\site-packages (from tqdm>=4.42.1->huggingface-hub<1.0,>=0.16.4->tokenizers) (0.4.6)\n",
      "Requirement already satisfied: charset-normalizer<4,>=2 in c:\\classes\\project\\mini-project\\da35-3rd-wasd-petinfo\\preprocessing\\env\\lib\\site-packages (from requests->huggingface-hub<1.0,>=0.16.4->tokenizers) (3.3.2)\n",
      "Requirement already satisfied: idna<4,>=2.5 in c:\\classes\\project\\mini-project\\da35-3rd-wasd-petinfo\\preprocessing\\env\\lib\\site-packages (from requests->huggingface-hub<1.0,>=0.16.4->tokenizers) (3.7)\n",
      "Requirement already satisfied: urllib3<3,>=1.21.1 in c:\\classes\\project\\mini-project\\da35-3rd-wasd-petinfo\\preprocessing\\env\\lib\\site-packages (from requests->huggingface-hub<1.0,>=0.16.4->tokenizers) (2.2.1)\n",
      "Requirement already satisfied: certifi>=2017.4.17 in c:\\classes\\project\\mini-project\\da35-3rd-wasd-petinfo\\preprocessing\\env\\lib\\site-packages (from requests->huggingface-hub<1.0,>=0.16.4->tokenizers) (2024.2.2)\n",
      "Using cached tokenizers-0.19.1-cp311-none-win_amd64.whl (2.2 MB)\n",
      "Using cached huggingface_hub-0.22.2-py3-none-any.whl (388 kB)\n",
      "Using cached fsspec-2024.3.1-py3-none-any.whl (171 kB)\n",
      "Using cached filelock-3.13.4-py3-none-any.whl (11 kB)\n",
      "Installing collected packages: fsspec, filelock, huggingface-hub, tokenizers\n",
      "Successfully installed filelock-3.13.4 fsspec-2024.3.1 huggingface-hub-0.22.2 tokenizers-0.19.1\n"
     ]
    }
   ],
   "source": [
    "# !pip install tokenizers"
   ]
  },
  {
   "cell_type": "code",
   "execution_count": 20,
   "metadata": {},
   "outputs": [],
   "source": [
    "from tokenizers import Tokenizer\n",
    "from tokenizers.models import WordPiece, BPE #Byte Pair Encoding알고리즘\n",
    "from tokenizers.pre_tokenizers import Whitespace\n",
    "from tokenizers.trainers import WordPieceTrainer, BpeTrainer\n",
    "import time\n",
    "\n",
    "path = \"data/petitions_corpus.txt\"\n",
    "wp_tokenizer = Tokenizer(WordPiece(unk_token=\"[UNK]\")) #알고리즘 객체를 넣어서 tokenizer 생성 or BPE\n",
    "#pre tokenizer 설정.(1차 토큰화 작업단위) 공백단위로 쪼개놓고 \n",
    "wp_tokenizer.pre_tokenizer = Whitespace()\n",
    "#Trainer 생성 -> 어휘사전 어떻게 만들지 설정\n",
    "trainer = WordPieceTrainer(vocab_size=20000)"
   ]
  },
  {
   "cell_type": "code",
   "execution_count": null,
   "metadata": {},
   "outputs": [],
   "source": [
    "#학습하기 - 어휘사전만들기\n",
    "#50000줄씩 끊어서 학습 - 메모리를 많이 쓴다 한번헤 하기 힘듬\n",
    "batch_size = 50_000 #몇 라인단위로 학습 시킬지.\n",
    "current_batch = [] #학습시킬 문자열들을 담을 리스트\n",
    "text_path = \"data/petitions_corpus.txt\"\n",
    "with open(text_path, \"rt\", encoding=\"utf-8\") as fr:\n",
    "    s = time.time()\n",
    "    # batch_size줄만큰 current_batch 리스트에 저장 한 뒤 학습.\n",
    "    for line in fr:\n",
    "        #한줄씩 읽어보자\n",
    "        current_batch.append(line)\n",
    "        if len(current_batch) == batch_size:# 50000줄 batch size만큰 읽은 후 학습\n",
    "            #학습\n",
    "            wp_tokenizer.train_from_iterator(current_batch, trainer) #\n",
    "            #누적되므로 리스트 비우기\n",
    "            current_batch.clear()\n",
    "\n",
    "    #current_batch에 있는 나머지 데이터 학습\n",
    "    wp_tokenizer.train_from_iterator(current_batch, trainer)\n",
    "    e = time.time()\n",
    "\n",
    "print(f\"걸린시간: {e - s}초\")\n",
    "#저장\n",
    "saved_path = \"saved_models/petitions_wordpiece.json\"\n",
    "wp_tokenizer.save(saved_path)"
   ]
  }
 ],
 "metadata": {
  "kernelspec": {
   "display_name": "env",
   "language": "python",
   "name": "python3"
  },
  "language_info": {
   "codemirror_mode": {
    "name": "ipython",
    "version": 3
   },
   "file_extension": ".py",
   "mimetype": "text/x-python",
   "name": "python",
   "nbconvert_exporter": "python",
   "pygments_lexer": "ipython3",
   "version": "3.11.8"
  }
 },
 "nbformat": 4,
 "nbformat_minor": 2
}
